{
 "cells": [
  {
   "cell_type": "code",
   "execution_count": 3,
   "metadata": {
    "collapsed": true
   },
   "outputs": [],
   "source": [
    "import numpy as np"
   ]
  },
  {
   "cell_type": "code",
   "execution_count": 232,
   "outputs": [],
   "source": [
    "def cal_probability_density(x, mu, sigma) -> int:\n",
    "    return 1 / (2*np.pi*np.sqrt(np.linalg.det(sigma))) \\\n",
    "           * np.exp(-1/2*(x-mu).dot(np.linalg.pinv(sigma)).dot(x-mu).T)\n",
    "class Model:\n",
    "    def __init__(self):\n",
    "        self.ITER = 1\n",
    "\n",
    "        self.X = np.array([[0.697, 0.460], # 1\n",
    "                           [0.774, 0.376],\n",
    "                           [0.634, 0.264],\n",
    "                           [0.608, 0.318],\n",
    "                           [0.556, 0.215],\n",
    "                           [0.403, 0.237],\n",
    "                           [0.481, 0.149],\n",
    "                           [0.437, 0.211],\n",
    "                           [0.666, 0.091],\n",
    "                           [0.243, 0.267],\n",
    "                           # [0.245, 0.057], # 11\n",
    "                           # [0.343, 0.099],\n",
    "                           # [0.639, 0.161],\n",
    "                           # [0.657, 0.198],\n",
    "                           # [0.360, 0.370],\n",
    "                           # [0.593, 0.042],\n",
    "                           # [0.719, 0.103],\n",
    "                           # [0.359, 0.188],\n",
    "                           # [0.339, 0.241],\n",
    "                           # [0.282, 0.257],\n",
    "                           # [0.748, 0.232], # 21\n",
    "                           # [0.714, 0.346],\n",
    "                           # [0.483, 0.312],\n",
    "                           # [0.478, 0.437],\n",
    "                           # [0.525, 0.369],\n",
    "                           # [0.751, 0.489],\n",
    "                           # [0.532, 0.472],\n",
    "                           # [0.473, 0.376],\n",
    "                           # [0.725, 0.445],\n",
    "                           # [0.446, 0.459]\n",
    "                           ])\n",
    "\n",
    "        self.cluster_num = 3\n",
    "\n",
    "        self.sample_num = len(self.X)\n",
    "\n",
    "        self.Alpha = []\n",
    "        for _ in range(self.cluster_num):\n",
    "            self.Alpha.append(1/self.cluster_num)\n",
    "        self.Alpha = np.array(self.Alpha)\n",
    "\n",
    "        self.Mu = np.array([self.X[1], self.X[5], self.X[8]])\n",
    "\n",
    "        self.Sigma = []\n",
    "        for _ in range(self.cluster_num):\n",
    "            self.Sigma.append(np.mat([[0.1, 0],[0, 0.1]]))\n",
    "        self.Sigma = np.array(self.Sigma)\n",
    "\n",
    "    def cal_P(self):\n",
    "        P = []\n",
    "        for x in self.X:\n",
    "            temp = []\n",
    "            for i in range(self.cluster_num):\n",
    "                temp.append(cal_probability_density(x, self.Mu[i], self.Sigma[i]))\n",
    "            P.append(temp)\n",
    "        return np.array(P)\n",
    "\n",
    "    def cal_Gamma(self):\n",
    "        P = self.cal_P()\n",
    "        self.Gamma = np.mat(P * self.Alpha) / np.sum(np.mat(P * self.Alpha), axis=1)\n",
    "\n",
    "    def update_Alpha(self):\n",
    "        self.Alpha = np.array(self.Gamma.mean(axis=0))[0]\n",
    "\n",
    "    def update_Mu(self):\n",
    "        for col in range(self.cluster_num):\n",
    "            self.Mu[col] = np.sum(self.X * np.array(self.Gamma[:, col]), axis=0) / np.sum(self.Gamma[:, col])\n",
    "\n",
    "    def update_Sigma(self):\n",
    "        for cluster in range(self.cluster_num):\n",
    "            self.Sigma[cluster] = 0\n",
    "            for sample in range(self.sample_num):\n",
    "                self.Sigma[cluster] += (np.mat(self.X[sample]) - self.Mu[cluster]).T \\\n",
    "                                        .dot(np.mat(self.X[sample]) - self.Mu[cluster]) \\\n",
    "                                       * self.Gamma[sample, cluster]\n",
    "            self.Sigma[cluster] = self.Sigma[cluster] / (np.sum(self.Gamma, axis=0)[0, cluster])\n",
    "\n",
    "    def fit(self):\n",
    "        for i in range(self.ITER):\n",
    "            self.cal_Gamma()\n",
    "            self.update_Alpha()\n",
    "            self.update_Mu()\n",
    "            self.update_Sigma()"
   ],
   "metadata": {
    "collapsed": false,
    "pycharm": {
     "name": "#%%\n"
    }
   }
  },
  {
   "cell_type": "code",
   "execution_count": 233,
   "outputs": [
    {
     "data": {
      "text/plain": "(array([0.33333333, 0.33333333, 0.33333333]),\n array([[0.774, 0.376],\n        [0.403, 0.237],\n        [0.666, 0.091]]),\n array([[[0.1, 0. ],\n         [0. , 0.1]],\n \n        [[0.1, 0. ],\n         [0. , 0.1]],\n \n        [[0.1, 0. ],\n         [0. , 0.1]]]))"
     },
     "execution_count": 233,
     "metadata": {},
     "output_type": "execute_result"
    }
   ],
   "source": [
    "model = Model()\n",
    "model.Alpha, model.Mu, model.Sigma"
   ],
   "metadata": {
    "collapsed": false,
    "pycharm": {
     "name": "#%%\n"
    }
   }
  },
  {
   "cell_type": "code",
   "execution_count": 238,
   "outputs": [
    {
     "data": {
      "text/plain": "(array([0.38155984, 0.37704844, 0.24139172]),\n array([[0.65876742, 0.33854393],\n        [0.40879695, 0.22346228],\n        [0.59821669, 0.18794815]]),\n array([[[ 0.00782341,  0.00620595],\n         [ 0.00620595,  0.00869279]],\n \n        [[ 0.0139468 , -0.00350734],\n         [-0.00350734,  0.00182804]],\n \n        [[ 0.00858309, -0.00019903],\n         [-0.00019903,  0.00893023]]]),\n matrix([[9.56667024e-01, 5.30472762e-09, 4.33329704e-02],\n         [9.04723613e-01, 5.63529479e-06, 9.52707519e-02],\n         [5.89322765e-01, 9.48738499e-02, 3.15803385e-01],\n         [7.57373700e-01, 1.36770869e-02, 2.28949213e-01],\n         [3.03481252e-01, 4.25562637e-01, 2.70956111e-01],\n         [1.35964501e-02, 9.00322258e-01, 8.60812915e-02],\n         [2.24867604e-01, 4.22105850e-01, 3.53026546e-01],\n         [5.94664388e-02, 8.01357115e-01, 1.39176446e-01],\n         [6.09879855e-03, 1.17888571e-01, 8.76012631e-01],\n         [7.22863178e-07, 9.94691426e-01, 5.30785079e-03]]))"
     },
     "execution_count": 238,
     "metadata": {},
     "output_type": "execute_result"
    }
   ],
   "source": [
    "model.fit()\n",
    "model.Alpha, model.Mu, model.Sigma, model.Gamma"
   ],
   "metadata": {
    "collapsed": false,
    "pycharm": {
     "name": "#%%\n"
    }
   }
  },
  {
   "cell_type": "code",
   "execution_count": 239,
   "outputs": [],
   "source": [
    "x_list = []\n",
    "y_list = []\n",
    "cluster_list = []\n",
    "for index, x in enumerate(model.X):\n",
    "    x_list.append(x[0])\n",
    "    y_list.append(x[1])\n",
    "    cluster_list.append(np.argmax(model.Gamma[index]) + 1)"
   ],
   "metadata": {
    "collapsed": false,
    "pycharm": {
     "name": "#%%\n"
    }
   }
  },
  {
   "cell_type": "code",
   "execution_count": 240,
   "outputs": [
    {
     "data": {
      "text/plain": "<Figure size 432x288 with 1 Axes>",
      "image/png": "[encoded data removed]"
     },
     "metadata": {
      "needs_background": "light"
     },
     "output_type": "display_data"
    }
   ],
   "source": [
    "import matplotlib.pyplot as plt\n",
    "for index, cluster in enumerate(cluster_list):\n",
    "    if cluster == 1:\n",
    "        plt.scatter(x_list[index], y_list[index], c='red')\n",
    "    elif cluster == 2:\n",
    "        plt.scatter(x_list[index], y_list[index], c='coral')\n",
    "    else:\n",
    "        plt.scatter(x_list[index], y_list[index], c='blue')\n",
    "plt.show()\n",
    "\n"
   ],
   "metadata": {
    "collapsed": false,
    "pycharm": {
     "name": "#%%\n"
    }
   }
  }
 ],
 "metadata": {
  "kernelspec": {
   "display_name": "Python 3",
   "language": "python",
   "name": "python3"
  },
  "language_info": {
   "codemirror_mode": {
    "name": "ipython",
    "version": 3
   },
   "file_extension": ".py",
   "mimetype": "text/x-python",
   "name": "python",
   "nbconvert_exporter": "python",
   "pygments_lexer": "ipython3",
   "version": "3.8.5"
  }
 },
 "nbformat": 4,
 "nbformat_minor": 1
}