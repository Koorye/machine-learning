{
 "cells": [
  {
   "cell_type": "code",
   "execution_count": 1,
   "metadata": {
    "collapsed": true
   },
   "outputs": [],
   "source": [
    "import numpy as np"
   ]
  },
  {
   "cell_type": "code",
   "execution_count": 2,
   "metadata": {
    "pycharm": {
     "name": "#%%\n"
    }
   },
   "outputs": [
    {
     "data": {
      "text/plain": [
       "array([[0.697, 0.46 ],\n",
       "       [0.774, 0.376],\n",
       "       [0.634, 0.264],\n",
       "       [0.608, 0.318],\n",
       "       [0.556, 0.215],\n",
       "       [0.403, 0.237],\n",
       "       [0.481, 0.149],\n",
       "       [0.437, 0.149],\n",
       "       [0.666, 0.091],\n",
       "       [0.243, 0.267]])"
      ]
     },
     "execution_count": 2,
     "metadata": {},
     "output_type": "execute_result"
    }
   ],
   "source": [
    "X = np.array([[0.697, 0.460],\n",
    "              [0.774, 0.376],\n",
    "              [0.634, 0.264],\n",
    "              [0.608, 0.318],\n",
    "              [0.556, 0.215],\n",
    "              [0.403, 0.237],\n",
    "              [0.481, 0.149],\n",
    "              [0.437, 0.149],\n",
    "              [0.666, 0.091],\n",
    "              [0.243, 0.267]])\n",
    "X"
   ]
  },
  {
   "cell_type": "code",
   "execution_count": 3,
   "metadata": {
    "pycharm": {
     "name": "#%%\n"
    }
   },
   "outputs": [
    {
     "data": {
      "text/plain": [
       "array([0.33333333, 0.33333333, 0.33333333])"
      ]
     },
     "execution_count": 3,
     "metadata": {},
     "output_type": "execute_result"
    }
   ],
   "source": [
    "k = 3\n",
    "Alpha = []\n",
    "for _ in range(k):\n",
    "    Alpha.append(1/k)\n",
    "Alpha = np.array(Alpha)\n",
    "Alpha"
   ]
  },
  {
   "cell_type": "code",
   "execution_count": 4,
   "metadata": {
    "pycharm": {
     "name": "#%%\n"
    }
   },
   "outputs": [
    {
     "data": {
      "text/plain": [
       "array([[[0.1, 0. ],\n",
       "        [0. , 0.1]],\n",
       "\n",
       "       [[0.1, 0. ],\n",
       "        [0. , 0.1]],\n",
       "\n",
       "       [[0.1, 0. ],\n",
       "        [0. , 0.1]]])"
      ]
     },
     "execution_count": 4,
     "metadata": {},
     "output_type": "execute_result"
    }
   ],
   "source": [
    "Sigma = []\n",
    "for _ in range(k):\n",
    "    Sigma.append(np.mat([[0.1, 0],[0, 0.1]]))\n",
    "Sigma = np.array(Sigma)\n",
    "Sigma"
   ]
  },
  {
   "cell_type": "code",
   "execution_count": 5,
   "metadata": {
    "pycharm": {
     "name": "#%%\n"
    }
   },
   "outputs": [
    {
     "data": {
      "text/plain": [
       "array([[0.774, 0.376],\n",
       "       [0.556, 0.215],\n",
       "       [0.437, 0.149]])"
      ]
     },
     "execution_count": 5,
     "metadata": {},
     "output_type": "execute_result"
    }
   ],
   "source": [
    "Mu = [X[1], X[4], X[7]]\n",
    "Mu = np.array(Mu)\n",
    "Mu"
   ]
  },
  {
   "cell_type": "code",
   "execution_count": 6,
   "metadata": {
    "pycharm": {
     "name": "#%%\n"
    }
   },
   "outputs": [
    {
     "data": {
      "text/plain": [
       "1.4915010464547156"
      ]
     },
     "execution_count": 6,
     "metadata": {},
     "output_type": "execute_result"
    }
   ],
   "source": [
    "def cal_probability_density(x, mu, sigma) -> int:\n",
    "    return 1/(2*np.pi*np.sqrt(np.linalg.det(sigma))) \\\n",
    "           * np.exp(-1/2*(x-mu).T.dot(np.linalg.pinv(sigma)).dot(x-mu))\n",
    "cal_probability_density(X[0], Mu[0], Sigma[0])"
   ]
  },
  {
   "cell_type": "code",
   "execution_count": 21,
   "metadata": {
    "pycharm": {
     "name": "#%%\n"
    }
   },
   "outputs": [
    {
     "data": {
      "text/plain": [
       "array([[1.49150105, 1.06734902, 0.6998446 ],\n",
       "       [1.59154943, 1.10239273, 0.69713097],\n",
       "       [1.35525283, 1.5254402 , 1.22695811],\n",
       "       [1.36357241, 1.48905699, 1.19207803],\n",
       "       [1.10239273, 1.59154943, 1.45081146],\n",
       "       [0.72607499, 1.41233311, 1.5222782 ],\n",
       "       [0.80076963, 1.51407248, 1.57621756],\n",
       "       [0.69713097, 1.45081146, 1.59154943],\n",
       "       [1.00026306, 1.38725646, 1.20404055],\n",
       "       [0.36622698, 0.96208067, 1.22986945]])"
      ]
     },
     "execution_count": 21,
     "metadata": {},
     "output_type": "execute_result"
    }
   ],
   "source": [
    "P = []\n",
    "for x in X:\n",
    "    temp = []\n",
    "    for i in range(k):\n",
    "        temp.append(cal_probability_density(x, Mu[i], Sigma[i]))\n",
    "    P.append(temp)\n",
    "P = np.array(P)\n",
    "P"
   ]
  },
  {
   "cell_type": "code",
   "execution_count": 23,
   "metadata": {
    "pycharm": {
     "name": "#%%\n"
    }
   },
   "outputs": [
    {
     "data": {
      "text/plain": [
       "matrix([[0.49716702, 0.35578301, 0.23328153],\n",
       "        [0.53051648, 0.36746424, 0.23237699],\n",
       "        [0.45175094, 0.50848007, 0.40898604],\n",
       "        [0.45452414, 0.49635233, 0.39735934],\n",
       "        [0.36746424, 0.53051648, 0.48360382],\n",
       "        [0.242025  , 0.4707777 , 0.50742607],\n",
       "        [0.26692321, 0.50469083, 0.52540585],\n",
       "        [0.23237699, 0.48360382, 0.53051648],\n",
       "        [0.33342102, 0.46241882, 0.40134685],\n",
       "        [0.12207566, 0.32069356, 0.40995648]])"
      ]
     },
     "execution_count": 23,
     "metadata": {},
     "output_type": "execute_result"
    }
   ],
   "source": [
    "G = np.mat(P * Alpha)\n",
    "G"
   ]
  },
  {
   "cell_type": "code",
   "execution_count": 26,
   "metadata": {
    "pycharm": {
     "name": "#%%\n"
    }
   },
   "outputs": [
    {
     "data": {
      "text/plain": [
       "matrix([[1.08623156],\n",
       "        [1.13035771],\n",
       "        [1.36921705],\n",
       "        [1.34823581],\n",
       "        [1.38158454],\n",
       "        [1.22022877],\n",
       "        [1.29701989],\n",
       "        [1.24649729],\n",
       "        [1.19718669],\n",
       "        [0.8527257 ]])"
      ]
     },
     "execution_count": 26,
     "metadata": {},
     "output_type": "execute_result"
    }
   ],
   "source": [
    "G_max = G.sum(axis=1)\n",
    "G_max"
   ]
  },
  {
   "cell_type": "code",
   "execution_count": 28,
   "metadata": {
    "pycharm": {
     "name": "#%%\n"
    }
   },
   "outputs": [
    {
     "data": {
      "text/plain": [
       "matrix([[0.45769893, 0.32753883, 0.21476225],\n",
       "        [0.46933504, 0.32508669, 0.20557828],\n",
       "        [0.32993377, 0.37136557, 0.29870066],\n",
       "        [0.3371251 , 0.36814949, 0.2947254 ],\n",
       "        [0.26597304, 0.38399132, 0.35003563],\n",
       "        [0.19834395, 0.38581102, 0.41584503],\n",
       "        [0.20579731, 0.38911572, 0.40508697],\n",
       "        [0.18642398, 0.38797021, 0.4256058 ],\n",
       "        [0.27850378, 0.38625456, 0.33524166],\n",
       "        [0.14315935, 0.37608056, 0.48076009]])"
      ]
     },
     "execution_count": 28,
     "metadata": {},
     "output_type": "execute_result"
    }
   ],
   "source": [
    "Gamma = G / G_max\n",
    "Gamma"
   ]
  },
  {
   "cell_type": "code",
   "execution_count": null,
   "metadata": {},
   "outputs": [],
   "source": [
    "def cal_gamma(X, Mu, Sigma):\n",
    "    P = []\n",
    "    for x in X:\n",
    "        temp = []\n",
    "        for i in range(k):\n",
    "            temp.append(cal_probability_density(x, Mu[i], Sigma[i]))\n",
    "        P.append(temp)\n",
    "    P = np.array(P)\n",
    "    \n",
    "    Gamma = np.mat(P * Alpha) / G.sum(axis=1)\n",
    "Gamma"
   ]
  },
  {
   "cell_type": "code",
   "execution_count": 33,
   "metadata": {
    "pycharm": {
     "name": "#%%\n"
    }
   },
   "outputs": [
    {
     "data": {
      "text/plain": [
       "matrix([[0.28722943, 0.3701364 , 0.34263418]])"
      ]
     },
     "execution_count": 33,
     "metadata": {},
     "output_type": "execute_result"
    }
   ],
   "source": [
    "Alpha = Gamma.mean(axis=0)\n",
    "Alpha"
   ]
  },
  {
   "cell_type": "code",
   "execution_count": 45,
   "metadata": {
    "pycharm": {
     "name": "#%%\n"
    }
   },
   "outputs": [
    {
     "data": {
      "text/plain": [
       "array([[0.60055553, 0.28114106],\n",
       "       [0.54399246, 0.24676209],\n",
       "       [0.51381731, 0.23498059]])"
      ]
     },
     "execution_count": 45,
     "metadata": {},
     "output_type": "execute_result"
    }
   ],
   "source": [
    "for col in range(k):\n",
    "    Mu[col] = np.sum(X * np.array(Gamma[:, col]), axis=0) / np.sum(Gamma[:, col])\n",
    "Mu"
   ]
  },
  {
   "cell_type": "code",
   "execution_count": 58,
   "metadata": {
    "pycharm": {
     "name": "#%%\n"
    }
   },
   "outputs": [
    {
     "data": {
      "text/plain": [
       "array([[[0.02671675, 0.04954695],\n",
       "        [0.04954695, 0.09188619]],\n",
       "\n",
       "       [[0.19581499, 0.11002561],\n",
       "        [0.11002561, 0.0618218 ]],\n",
       "\n",
       "       [[0.04948967, 0.01194981],\n",
       "        [0.01194981, 0.00288541]]])"
      ]
     },
     "execution_count": 58,
     "metadata": {},
     "output_type": "execute_result"
    }
   ],
   "source": [
    "for sigma in range(k):\n",
    "    Sigma[sigma] = np.zeros((2,2))\n",
    "    for row in range(10):\n",
    "        Sigma[sigma] += (np.mat(X[sigma]) - Mu[sigma]).T.dot(np.mat(X[sigma]) - Mu[sigma]) * Gamma[row, sigma]\n",
    "Sigma"
   ]
  },
  {
   "cell_type": "code",
   "execution_count": null,
   "metadata": {
    "pycharm": {
     "name": "#%%\n"
    }
   },
   "outputs": [],
   "source": []
  }
 ],
 "metadata": {
  "kernelspec": {
   "display_name": "Python 3",
   "language": "python",
   "name": "python3"
  },
  "language_info": {
   "codemirror_mode": {
    "name": "ipython",
    "version": 3
   },
   "file_extension": ".py",
   "mimetype": "text/x-python",
   "name": "python",
   "nbconvert_exporter": "python",
   "pygments_lexer": "ipython3",
   "version": "3.8.5"
  }
 },
 "nbformat": 4,
 "nbformat_minor": 1
}
