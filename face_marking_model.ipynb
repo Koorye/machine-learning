{
 "cells": [
  {
   "cell_type": "code",
   "execution_count": 2,
   "metadata": {},
   "outputs": [],
   "source": [
    "import tensorflow as tf\n",
    "import pandas as pd\n",
    "import numpy as np\n",
    "import PIL.Image\n",
    "import os\n",
    "import shutil\n",
    "import sklearn.model_selection\n",
    "import matplotlib.pyplot as plt"
   ]
  },
  {
   "cell_type": "code",
   "execution_count": 3,
   "metadata": {
    "pycharm": {
     "name": "#%%\n"
    }
   },
   "outputs": [],
   "source": [
    "def convert_image_to_array(img_path, img_width, img_height):\n",
    "    img = PIL.Image.open(img_path)\n",
    "    img = img.resize((img_width, img_height))\n",
    "    return np.array(img.convert('RGB')).reshape((img_width, img_height, 3)).astype('float32')"
   ]
  },
  {
   "cell_type": "code",
   "execution_count": 4,
   "metadata": {
    "pycharm": {
     "name": "#%%\n"
    }
   },
   "outputs": [],
   "source": [
    "def convert_dir_to_arrays(dir_path, img_width, img_height):\n",
    "    files = os.listdir(dir_path)\n",
    "    arrays = []\n",
    "    for file in files:\n",
    "        if file.endswith('.jpg'):\n",
    "            arrays.append(convert_image_to_array(dir_path+'/' + file, img_width, img_height))\n",
    "    return np.array(arrays)"
   ]
  },
  {
   "cell_type": "code",
   "execution_count": 5,
   "metadata": {
    "pycharm": {
     "name": "#%%\n"
    }
   },
   "outputs": [],
   "source": [
    "def save_data_as_csv(data, path, header):\n",
    "    if os.path.exists(path):\n",
    "        data.to_csv(path, mode='a', header=None, index=None)\n",
    "    else:\n",
    "        data.to_csv(path, mode='a', header=header, index=None)"
   ]
  },
  {
   "cell_type": "code",
   "execution_count": 6,
   "outputs": [],
   "source": [
    "class Model:\n",
    "    def __init__(self):\n",
    "        self.img_width, self.img_height = 100, 120\n",
    "\n",
    "        self.data = convert_dir_to_arrays('data/female-face/allpicture', self.img_width, self.img_height)\n",
    "        self.target = np.array(pd.read_excel('data/female-face/grades.xlsx')['label']) / 5\n",
    "\n",
    "        self.x_train, self.x_test, self.y_train, self.y_test = sklearn.model_selection.train_test_split(self.data, self.target, test_size=0.3)\n",
    "\n",
    "        self.model = tf.keras.Sequential([\n",
    "                tf.keras.applications.ResNet50(include_top=False, pooling='avg'),\n",
    "                tf.keras.layers.Dropout(0.5),\n",
    "                tf.keras.layers.Dense(1, activation='sigmoid')])\n",
    "\n",
    "        self.base_path = 'face_marking_model'\n",
    "        self.checkpoint_save_path = 'checkpoint/mnist.ckpt'\n",
    "\n",
    "        self.cp_callback = tf.keras.callbacks.ModelCheckpoint(filepath=self.base_path + '/' + self.checkpoint_save_path,\n",
    "                                                              save_weights_only=True,\n",
    "                                                              save_best_only=True)\n",
    "        \n",
    "    def fit(self, epochs, new_model=False):\n",
    "        if new_model:\n",
    "            print('[ WARN ] >>> All record of model will be removed!')\n",
    "            if os.path.exists(self.base_path):\n",
    "                shutil.rmtree(self.base_path)\n",
    "\n",
    "        else:\n",
    "            if os.path.exists(self.base_path + '/' + self.checkpoint_save_path + '.index'):\n",
    "                print('[ INFO ] >>> Model is exist! Loading the model!')\n",
    "                self.model.load_weights(self.base_path + '/' + self.checkpoint_save_path)\n",
    "            else:\n",
    "                print('[ INFO ] >>> Model is not exist! Creating the model!')\n",
    "\n",
    "        self.model.compile(optimizer='sgd',\n",
    "                           loss='mse')\n",
    "\n",
    "        self.model.fit(self.x_train,\n",
    "                       self.y_train,\n",
    "                       batch_size=64,\n",
    "                       epochs=epochs,\n",
    "                       validation_data=(self.x_test, self.y_test),\n",
    "                       validation_freq=1,\n",
    "                       callbacks=[self.cp_callback])\n",
    "\n",
    "        save_data_as_csv(pd.concat([pd.DataFrame(self.model.history.history['loss']),\n",
    "                                    pd.DataFrame(self.model.history.history['val_loss'])],\n",
    "                                    axis=1),\n",
    "                 path=self.base_path + '/' + 'loss.csv',\n",
    "                 header=['loss', 'val_loss'])\n",
    "\n",
    "    def predict(self, img_path):\n",
    "        return self.model.predict(convert_image_to_array(img_path, self.img_width, self.img_height).reshape(1, self.img_width, self.img_height, 3))[0]"
   ],
   "metadata": {
    "collapsed": false,
    "pycharm": {
     "name": "#%%\n"
    }
   }
  },
  {
   "cell_type": "code",
   "execution_count": 7,
   "metadata": {
    "pycharm": {
     "name": "#%%\n"
    }
   },
   "outputs": [
    {
     "name": "stderr",
     "output_type": "stream",
     "text": [
      "C:\\environment\\Python3.8.5\\lib\\site-packages\\PIL\\TiffImagePlugin.py:792: UserWarning: Corrupt EXIF data.  Expecting to read 2 bytes but only got 0. \n",
      "  warnings.warn(str(msg))\n"
     ]
    }
   ],
   "source": [
    "model = Model()"
   ]
  },
  {
   "cell_type": "code",
   "execution_count": null,
   "metadata": {
    "pycharm": {
     "name": "#%%\n",
     "is_executing": true
    }
   },
   "outputs": [
    {
     "name": "stdout",
     "output_type": "stream",
     "text": [
      "[ INFO ] >>> Model is not exist! Creating the model!\n",
      "Epoch 1/50\n",
      "1/6 [====>.........................] - ETA: 0s - loss: 0.0757"
     ]
    }
   ],
   "source": [
    "model.fit(50, new_model=False)"
   ]
  },
  {
   "cell_type": "code",
   "execution_count": 13,
   "outputs": [
    {
     "data": {
      "text/plain": "<AxesSubplot:>"
     },
     "execution_count": 13,
     "metadata": {},
     "output_type": "execute_result"
    },
    {
     "data": {
      "text/plain": "<Figure size 432x288 with 1 Axes>",
      "image/png": "[encoded data removed]"
     },
     "metadata": {
      "needs_background": "light"
     },
     "output_type": "display_data"
    }
   ],
   "source": [
    "pd.read_csv(model.base_path + '/loss.csv').plot()"
   ],
   "metadata": {
    "collapsed": false,
    "pycharm": {
     "name": "#%%\n"
    }
   }
  },
  {
   "cell_type": "code",
   "execution_count": 14,
   "outputs": [
    {
     "data": {
      "text/plain": "<matplotlib.legend.Legend at 0x1dd860496a0>"
     },
     "execution_count": 14,
     "metadata": {},
     "output_type": "execute_result"
    },
    {
     "data": {
      "text/plain": "<Figure size 432x288 with 1 Axes>",
      "image/png": "[encoded data removed]"
     },
     "metadata": {
      "needs_background": "light"
     },
     "output_type": "display_data"
    }
   ],
   "source": [
    "plt.scatter(range(len(model.y_test)), model.y_test, label='y_test')\n",
    "plt.scatter(range(len(model.y_test)), model.model.predict(model.x_test), label='y_predict')\n",
    "plt.legend()"
   ],
   "metadata": {
    "collapsed": false,
    "pycharm": {
     "name": "#%%"
    }
   }
  },
  {
   "cell_type": "code",
   "execution_count": 16,
   "outputs": [
    {
     "data": {
      "text/plain": "array([0.29926282], dtype=float32)"
     },
     "execution_count": 16,
     "metadata": {},
     "output_type": "execute_result"
    }
   ],
   "source": [
    "model.predict('data/female-face/allpicture/SCUT-FBP-2.jpg')\n"
   ],
   "metadata": {
    "collapsed": false,
    "pycharm": {
     "name": "#%%"
    }
   }
  }
 ],
 "metadata": {
  "kernelspec": {
   "display_name": "PyCharm (machine-learning)",
   "language": "python",
   "name": "pycharm-7c4dd109"
  },
  "language_info": {
   "codemirror_mode": {
    "name": "ipython",
    "version": 3
   },
   "file_extension": ".py",
   "mimetype": "text/x-python",
   "name": "python",
   "nbconvert_exporter": "python",
   "pygments_lexer": "ipython3",
   "version": "3.8.5"
  }
 },
 "nbformat": 4,
 "nbformat_minor": 1
}