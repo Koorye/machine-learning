{
 "cells": [
  {
   "cell_type": "code",
   "execution_count": 1,
   "metadata": {
    "collapsed": true
   },
   "outputs": [],
   "source": [
    "import numpy as np"
   ]
  },
  {
   "cell_type": "code",
   "execution_count": 2,
   "outputs": [],
   "source": [
    "def cal_probability_density(x, mu, sigma) -> int:\n",
    "    return 1 / (2*np.pi*np.sqrt(np.linalg.det(sigma))) \\\n",
    "           * np.exp(-1/2*(x-mu).dot(np.linalg.pinv(sigma)).dot(x-mu).T)\n",
    "class Model:\n",
    "    def __init__(self):\n",
    "        self.ITER = 1\n",
    "\n",
    "        self.X = np.array([[0.697, 0.460], # 1\n",
    "                           [0.774, 0.376],\n",
    "                           [0.634, 0.264],\n",
    "                           [0.608, 0.318],\n",
    "                           [0.556, 0.215],\n",
    "                           [0.403, 0.237],\n",
    "                           [0.481, 0.149],\n",
    "                           [0.437, 0.211],\n",
    "                           [0.666, 0.091],\n",
    "                           [0.243, 0.267],\n",
    "                           # [0.245, 0.057], # 11\n",
    "                           # [0.343, 0.099],\n",
    "                           # [0.639, 0.161],\n",
    "                           # [0.657, 0.198],\n",
    "                           # [0.360, 0.370],\n",
    "                           # [0.593, 0.042],\n",
    "                           # [0.719, 0.103],\n",
    "                           # [0.359, 0.188],\n",
    "                           # [0.339, 0.241],\n",
    "                           # [0.282, 0.257],\n",
    "                           # [0.748, 0.232], # 21\n",
    "                           # [0.714, 0.346],\n",
    "                           # [0.483, 0.312],\n",
    "                           # [0.478, 0.437],\n",
    "                           # [0.525, 0.369],\n",
    "                           # [0.751, 0.489],\n",
    "                           # [0.532, 0.472],\n",
    "                           # [0.473, 0.376],\n",
    "                           # [0.725, 0.445],\n",
    "                           # [0.446, 0.459]\n",
    "                           ])\n",
    "\n",
    "        self.cluster_num = 3\n",
    "\n",
    "        self.sample_num = len(self.X)\n",
    "\n",
    "        self.Alpha = []\n",
    "        for _ in range(self.cluster_num):\n",
    "            self.Alpha.append(1/self.cluster_num)\n",
    "        self.Alpha = np.array(self.Alpha)\n",
    "\n",
    "        self.Mu = np.array([self.X[1], self.X[5], self.X[8]])\n",
    "\n",
    "        self.Sigma = []\n",
    "        for _ in range(self.cluster_num):\n",
    "            self.Sigma.append(np.mat([[0.1, 0],[0, 0.1]]))\n",
    "        self.Sigma = np.array(self.Sigma)\n",
    "\n",
    "    def cal_P(self):\n",
    "        P = []\n",
    "        for x in self.X:\n",
    "            temp = []\n",
    "            for i in range(self.cluster_num):\n",
    "                temp.append(cal_probability_density(x, self.Mu[i], self.Sigma[i]))\n",
    "            P.append(temp)\n",
    "        return np.array(P)\n",
    "\n",
    "    def cal_Gamma(self):\n",
    "        P = self.cal_P()\n",
    "        self.Gamma = np.mat(P * self.Alpha) / np.sum(np.mat(P * self.Alpha), axis=1)\n",
    "\n",
    "    def update_Alpha(self):\n",
    "        self.Alpha = np.array(self.Gamma.mean(axis=0))[0]\n",
    "\n",
    "    def update_Mu(self):\n",
    "        for col in range(self.cluster_num):\n",
    "            self.Mu[col] = np.sum(self.X * np.array(self.Gamma[:, col]), axis=0) / np.sum(self.Gamma[:, col])\n",
    "\n",
    "    def update_Sigma(self):\n",
    "        for cluster in range(self.cluster_num):\n",
    "            self.Sigma[cluster] = 0\n",
    "            for sample in range(self.sample_num):\n",
    "                self.Sigma[cluster] += (np.mat(self.X[sample]) - self.Mu[cluster]).T \\\n",
    "                                        .dot(np.mat(self.X[sample]) - self.Mu[cluster]) \\\n",
    "                                       * self.Gamma[sample, cluster]\n",
    "            self.Sigma[cluster] = self.Sigma[cluster] / (np.sum(self.Gamma, axis=0)[0, cluster])\n",
    "\n",
    "    def fit(self):\n",
    "        for i in range(self.ITER):\n",
    "            self.cal_Gamma()\n",
    "            self.update_Alpha()\n",
    "            self.update_Mu()\n",
    "            self.update_Sigma()"
   ],
   "metadata": {
    "collapsed": false,
    "pycharm": {
     "name": "#%%\n"
    }
   }
  },
  {
   "cell_type": "code",
   "execution_count": 3,
   "outputs": [
    {
     "data": {
      "text/plain": "(array([0.33333333, 0.33333333, 0.33333333]),\n array([[0.774, 0.376],\n        [0.403, 0.237],\n        [0.666, 0.091]]),\n array([[[0.1, 0. ],\n         [0. , 0.1]],\n \n        [[0.1, 0. ],\n         [0. , 0.1]],\n \n        [[0.1, 0. ],\n         [0. , 0.1]]]))"
     },
     "execution_count": 3,
     "metadata": {},
     "output_type": "execute_result"
    }
   ],
   "source": [
    "model = Model()\n",
    "model.Alpha, model.Mu, model.Sigma"
   ],
   "metadata": {
    "collapsed": false,
    "pycharm": {
     "name": "#%%\n"
    }
   }
  },
  {
   "cell_type": "code",
   "execution_count": 4,
   "outputs": [
    {
     "data": {
      "text/plain": "(array([0.30453302, 0.36986803, 0.32559896]),\n array([[0.59611859, 0.28455744],\n        [0.50475485, 0.24897797],\n        [0.55795488, 0.2458665 ]]),\n array([[[0.01934125, 0.00732513],\n         [0.00732513, 0.01214118]],\n \n        [[0.02455678, 0.00352949],\n         [0.00352949, 0.00789276]],\n \n        [[0.01999452, 0.00409973],\n         [0.00409973, 0.01032529]]]),\n matrix([[0.48129435, 0.25997333, 0.25873233],\n         [0.47968758, 0.21883653, 0.30147588],\n         [0.34458414, 0.30877359, 0.34664226],\n         [0.3568244 , 0.32665801, 0.31651758],\n         [0.2825212 , 0.36195272, 0.35552608],\n         [0.21804164, 0.47794518, 0.30401318],\n         [0.22213668, 0.41200804, 0.36585528],\n         [0.2246826 , 0.45011304, 0.32520435],\n         [0.27752928, 0.28088531, 0.44158541],\n         [0.15802827, 0.60153453, 0.2404372 ]]))"
     },
     "execution_count": 4,
     "metadata": {},
     "output_type": "execute_result"
    }
   ],
   "source": [
    "model.fit()\n",
    "model.Alpha, model.Mu, model.Sigma, model.Gamma"
   ],
   "metadata": {
    "collapsed": false,
    "pycharm": {
     "name": "#%%\n"
    }
   }
  },
  {
   "cell_type": "code",
   "execution_count": 5,
   "outputs": [],
   "source": [
    "x_list = []\n",
    "y_list = []\n",
    "cluster_list = []\n",
    "for index, x in enumerate(model.X):\n",
    "    x_list.append(x[0])\n",
    "    y_list.append(x[1])\n",
    "    cluster_list.append(np.argmax(model.Gamma[index]) + 1)"
   ],
   "metadata": {
    "collapsed": false,
    "pycharm": {
     "name": "#%%\n"
    }
   }
  },
  {
   "cell_type": "code",
   "execution_count": 6,
   "outputs": [
    {
     "ename": "KeyboardInterrupt",
     "evalue": "",
     "output_type": "error",
     "traceback": [
      "\u001B[1;31m---------------------------------------------------------------------------\u001B[0m",
      "\u001B[1;31mKeyboardInterrupt\u001B[0m                         Traceback (most recent call last)",
      "\u001B[1;32m<ipython-input-6-e8a8cc9308dd>\u001B[0m in \u001B[0;36m<module>\u001B[1;34m\u001B[0m\n\u001B[0;32m      2\u001B[0m \u001B[1;32mfor\u001B[0m \u001B[0mindex\u001B[0m\u001B[1;33m,\u001B[0m \u001B[0mcluster\u001B[0m \u001B[1;32min\u001B[0m \u001B[0menumerate\u001B[0m\u001B[1;33m(\u001B[0m\u001B[0mcluster_list\u001B[0m\u001B[1;33m)\u001B[0m\u001B[1;33m:\u001B[0m\u001B[1;33m\u001B[0m\u001B[1;33m\u001B[0m\u001B[0m\n\u001B[0;32m      3\u001B[0m     \u001B[1;32mif\u001B[0m \u001B[0mcluster\u001B[0m \u001B[1;33m==\u001B[0m \u001B[1;36m1\u001B[0m\u001B[1;33m:\u001B[0m\u001B[1;33m\u001B[0m\u001B[1;33m\u001B[0m\u001B[0m\n\u001B[1;32m----> 4\u001B[1;33m         \u001B[0mplt\u001B[0m\u001B[1;33m.\u001B[0m\u001B[0mscatter\u001B[0m\u001B[1;33m(\u001B[0m\u001B[0mx_list\u001B[0m\u001B[1;33m[\u001B[0m\u001B[0mindex\u001B[0m\u001B[1;33m]\u001B[0m\u001B[1;33m,\u001B[0m \u001B[0my_list\u001B[0m\u001B[1;33m[\u001B[0m\u001B[0mindex\u001B[0m\u001B[1;33m]\u001B[0m\u001B[1;33m,\u001B[0m \u001B[0mc\u001B[0m\u001B[1;33m=\u001B[0m\u001B[1;34m'red'\u001B[0m\u001B[1;33m)\u001B[0m\u001B[1;33m\u001B[0m\u001B[1;33m\u001B[0m\u001B[0m\n\u001B[0m\u001B[0;32m      5\u001B[0m     \u001B[1;32melif\u001B[0m \u001B[0mcluster\u001B[0m \u001B[1;33m==\u001B[0m \u001B[1;36m2\u001B[0m\u001B[1;33m:\u001B[0m\u001B[1;33m\u001B[0m\u001B[1;33m\u001B[0m\u001B[0m\n\u001B[0;32m      6\u001B[0m         \u001B[0mplt\u001B[0m\u001B[1;33m.\u001B[0m\u001B[0mscatter\u001B[0m\u001B[1;33m(\u001B[0m\u001B[0mx_list\u001B[0m\u001B[1;33m[\u001B[0m\u001B[0mindex\u001B[0m\u001B[1;33m]\u001B[0m\u001B[1;33m,\u001B[0m \u001B[0my_list\u001B[0m\u001B[1;33m[\u001B[0m\u001B[0mindex\u001B[0m\u001B[1;33m]\u001B[0m\u001B[1;33m,\u001B[0m \u001B[0mc\u001B[0m\u001B[1;33m=\u001B[0m\u001B[1;34m'coral'\u001B[0m\u001B[1;33m)\u001B[0m\u001B[1;33m\u001B[0m\u001B[1;33m\u001B[0m\u001B[0m\n",
      "\u001B[1;32mc:\\environment\\python3.8.5\\lib\\site-packages\\matplotlib\\pyplot.py\u001B[0m in \u001B[0;36mscatter\u001B[1;34m(x, y, s, c, marker, cmap, norm, vmin, vmax, alpha, linewidths, verts, edgecolors, plotnonfinite, data, **kwargs)\u001B[0m\n\u001B[0;32m   2888\u001B[0m         \u001B[0mverts\u001B[0m\u001B[1;33m=\u001B[0m\u001B[0mcbook\u001B[0m\u001B[1;33m.\u001B[0m\u001B[0mdeprecation\u001B[0m\u001B[1;33m.\u001B[0m\u001B[0m_deprecated_parameter\u001B[0m\u001B[1;33m,\u001B[0m\u001B[1;33m\u001B[0m\u001B[1;33m\u001B[0m\u001B[0m\n\u001B[0;32m   2889\u001B[0m         edgecolors=None, *, plotnonfinite=False, data=None, **kwargs):\n\u001B[1;32m-> 2890\u001B[1;33m     __ret = gca().scatter(\n\u001B[0m\u001B[0;32m   2891\u001B[0m         \u001B[0mx\u001B[0m\u001B[1;33m,\u001B[0m \u001B[0my\u001B[0m\u001B[1;33m,\u001B[0m \u001B[0ms\u001B[0m\u001B[1;33m=\u001B[0m\u001B[0ms\u001B[0m\u001B[1;33m,\u001B[0m \u001B[0mc\u001B[0m\u001B[1;33m=\u001B[0m\u001B[0mc\u001B[0m\u001B[1;33m,\u001B[0m \u001B[0mmarker\u001B[0m\u001B[1;33m=\u001B[0m\u001B[0mmarker\u001B[0m\u001B[1;33m,\u001B[0m \u001B[0mcmap\u001B[0m\u001B[1;33m=\u001B[0m\u001B[0mcmap\u001B[0m\u001B[1;33m,\u001B[0m \u001B[0mnorm\u001B[0m\u001B[1;33m=\u001B[0m\u001B[0mnorm\u001B[0m\u001B[1;33m,\u001B[0m\u001B[1;33m\u001B[0m\u001B[1;33m\u001B[0m\u001B[0m\n\u001B[0;32m   2892\u001B[0m         \u001B[0mvmin\u001B[0m\u001B[1;33m=\u001B[0m\u001B[0mvmin\u001B[0m\u001B[1;33m,\u001B[0m \u001B[0mvmax\u001B[0m\u001B[1;33m=\u001B[0m\u001B[0mvmax\u001B[0m\u001B[1;33m,\u001B[0m \u001B[0malpha\u001B[0m\u001B[1;33m=\u001B[0m\u001B[0malpha\u001B[0m\u001B[1;33m,\u001B[0m \u001B[0mlinewidths\u001B[0m\u001B[1;33m=\u001B[0m\u001B[0mlinewidths\u001B[0m\u001B[1;33m,\u001B[0m\u001B[1;33m\u001B[0m\u001B[1;33m\u001B[0m\u001B[0m\n",
      "\u001B[1;32mc:\\environment\\python3.8.5\\lib\\site-packages\\matplotlib\\__init__.py\u001B[0m in \u001B[0;36minner\u001B[1;34m(ax, data, *args, **kwargs)\u001B[0m\n\u001B[0;32m   1445\u001B[0m     \u001B[1;32mdef\u001B[0m \u001B[0minner\u001B[0m\u001B[1;33m(\u001B[0m\u001B[0max\u001B[0m\u001B[1;33m,\u001B[0m \u001B[1;33m*\u001B[0m\u001B[0margs\u001B[0m\u001B[1;33m,\u001B[0m \u001B[0mdata\u001B[0m\u001B[1;33m=\u001B[0m\u001B[1;32mNone\u001B[0m\u001B[1;33m,\u001B[0m \u001B[1;33m**\u001B[0m\u001B[0mkwargs\u001B[0m\u001B[1;33m)\u001B[0m\u001B[1;33m:\u001B[0m\u001B[1;33m\u001B[0m\u001B[1;33m\u001B[0m\u001B[0m\n\u001B[0;32m   1446\u001B[0m         \u001B[1;32mif\u001B[0m \u001B[0mdata\u001B[0m \u001B[1;32mis\u001B[0m \u001B[1;32mNone\u001B[0m\u001B[1;33m:\u001B[0m\u001B[1;33m\u001B[0m\u001B[1;33m\u001B[0m\u001B[0m\n\u001B[1;32m-> 1447\u001B[1;33m             \u001B[1;32mreturn\u001B[0m \u001B[0mfunc\u001B[0m\u001B[1;33m(\u001B[0m\u001B[0max\u001B[0m\u001B[1;33m,\u001B[0m \u001B[1;33m*\u001B[0m\u001B[0mmap\u001B[0m\u001B[1;33m(\u001B[0m\u001B[0msanitize_sequence\u001B[0m\u001B[1;33m,\u001B[0m \u001B[0margs\u001B[0m\u001B[1;33m)\u001B[0m\u001B[1;33m,\u001B[0m \u001B[1;33m**\u001B[0m\u001B[0mkwargs\u001B[0m\u001B[1;33m)\u001B[0m\u001B[1;33m\u001B[0m\u001B[1;33m\u001B[0m\u001B[0m\n\u001B[0m\u001B[0;32m   1448\u001B[0m \u001B[1;33m\u001B[0m\u001B[0m\n\u001B[0;32m   1449\u001B[0m         \u001B[0mbound\u001B[0m \u001B[1;33m=\u001B[0m \u001B[0mnew_sig\u001B[0m\u001B[1;33m.\u001B[0m\u001B[0mbind\u001B[0m\u001B[1;33m(\u001B[0m\u001B[0max\u001B[0m\u001B[1;33m,\u001B[0m \u001B[1;33m*\u001B[0m\u001B[0margs\u001B[0m\u001B[1;33m,\u001B[0m \u001B[1;33m**\u001B[0m\u001B[0mkwargs\u001B[0m\u001B[1;33m)\u001B[0m\u001B[1;33m\u001B[0m\u001B[1;33m\u001B[0m\u001B[0m\n",
      "\u001B[1;32mc:\\environment\\python3.8.5\\lib\\site-packages\\matplotlib\\cbook\\deprecation.py\u001B[0m in \u001B[0;36mwrapper\u001B[1;34m(*inner_args, **inner_kwargs)\u001B[0m\n\u001B[0;32m    409\u001B[0m                          \u001B[1;32melse\u001B[0m \u001B[0mdeprecation_addendum\u001B[0m\u001B[1;33m,\u001B[0m\u001B[1;33m\u001B[0m\u001B[1;33m\u001B[0m\u001B[0m\n\u001B[0;32m    410\u001B[0m                 **kwargs)\n\u001B[1;32m--> 411\u001B[1;33m         \u001B[1;32mreturn\u001B[0m \u001B[0mfunc\u001B[0m\u001B[1;33m(\u001B[0m\u001B[1;33m*\u001B[0m\u001B[0minner_args\u001B[0m\u001B[1;33m,\u001B[0m \u001B[1;33m**\u001B[0m\u001B[0minner_kwargs\u001B[0m\u001B[1;33m)\u001B[0m\u001B[1;33m\u001B[0m\u001B[1;33m\u001B[0m\u001B[0m\n\u001B[0m\u001B[0;32m    412\u001B[0m \u001B[1;33m\u001B[0m\u001B[0m\n\u001B[0;32m    413\u001B[0m     \u001B[1;32mreturn\u001B[0m \u001B[0mwrapper\u001B[0m\u001B[1;33m\u001B[0m\u001B[1;33m\u001B[0m\u001B[0m\n",
      "\u001B[1;32mc:\\environment\\python3.8.5\\lib\\site-packages\\matplotlib\\axes\\_axes.py\u001B[0m in \u001B[0;36mscatter\u001B[1;34m(self, x, y, s, c, marker, cmap, norm, vmin, vmax, alpha, linewidths, verts, edgecolors, plotnonfinite, **kwargs)\u001B[0m\n\u001B[0;32m   4449\u001B[0m \u001B[1;33m\u001B[0m\u001B[0m\n\u001B[0;32m   4450\u001B[0m         \u001B[0mc\u001B[0m\u001B[1;33m,\u001B[0m \u001B[0mcolors\u001B[0m\u001B[1;33m,\u001B[0m \u001B[0medgecolors\u001B[0m \u001B[1;33m=\u001B[0m\u001B[0;31m \u001B[0m\u001B[0;31m\\\u001B[0m\u001B[1;33m\u001B[0m\u001B[1;33m\u001B[0m\u001B[0m\n\u001B[1;32m-> 4451\u001B[1;33m             self._parse_scatter_color_args(\n\u001B[0m\u001B[0;32m   4452\u001B[0m                 \u001B[0mc\u001B[0m\u001B[1;33m,\u001B[0m \u001B[0medgecolors\u001B[0m\u001B[1;33m,\u001B[0m \u001B[0mkwargs\u001B[0m\u001B[1;33m,\u001B[0m \u001B[0mx\u001B[0m\u001B[1;33m.\u001B[0m\u001B[0msize\u001B[0m\u001B[1;33m,\u001B[0m\u001B[1;33m\u001B[0m\u001B[1;33m\u001B[0m\u001B[0m\n\u001B[0;32m   4453\u001B[0m                 get_next_color_func=self._get_patches_for_fill.get_next_color)\n",
      "\u001B[1;32mc:\\environment\\python3.8.5\\lib\\site-packages\\matplotlib\\axes\\_axes.py\u001B[0m in \u001B[0;36m_parse_scatter_color_args\u001B[1;34m(c, edgecolors, kwargs, xsize, get_next_color_func)\u001B[0m\n\u001B[0;32m   4289\u001B[0m         \u001B[1;32mif\u001B[0m \u001B[1;32mnot\u001B[0m \u001B[0mc_is_mapped\u001B[0m\u001B[1;33m:\u001B[0m\u001B[1;33m\u001B[0m\u001B[1;33m\u001B[0m\u001B[0m\n\u001B[0;32m   4290\u001B[0m             \u001B[1;32mtry\u001B[0m\u001B[1;33m:\u001B[0m  \u001B[1;31m# Is 'c' acceptable as PathCollection facecolors?\u001B[0m\u001B[1;33m\u001B[0m\u001B[1;33m\u001B[0m\u001B[0m\n\u001B[1;32m-> 4291\u001B[1;33m                 \u001B[0mcolors\u001B[0m \u001B[1;33m=\u001B[0m \u001B[0mmcolors\u001B[0m\u001B[1;33m.\u001B[0m\u001B[0mto_rgba_array\u001B[0m\u001B[1;33m(\u001B[0m\u001B[0mc\u001B[0m\u001B[1;33m)\u001B[0m\u001B[1;33m\u001B[0m\u001B[1;33m\u001B[0m\u001B[0m\n\u001B[0m\u001B[0;32m   4292\u001B[0m             \u001B[1;32mexcept\u001B[0m \u001B[1;33m(\u001B[0m\u001B[0mTypeError\u001B[0m\u001B[1;33m,\u001B[0m \u001B[0mValueError\u001B[0m\u001B[1;33m)\u001B[0m \u001B[1;32mas\u001B[0m \u001B[0merr\u001B[0m\u001B[1;33m:\u001B[0m\u001B[1;33m\u001B[0m\u001B[1;33m\u001B[0m\u001B[0m\n\u001B[0;32m   4293\u001B[0m                 \u001B[1;32mif\u001B[0m \u001B[1;34m\"RGBA values should be within 0-1 range\"\u001B[0m \u001B[1;32min\u001B[0m \u001B[0mstr\u001B[0m\u001B[1;33m(\u001B[0m\u001B[0merr\u001B[0m\u001B[1;33m)\u001B[0m\u001B[1;33m:\u001B[0m\u001B[1;33m\u001B[0m\u001B[1;33m\u001B[0m\u001B[0m\n",
      "\u001B[1;32mc:\\environment\\python3.8.5\\lib\\site-packages\\matplotlib\\colors.py\u001B[0m in \u001B[0;36mto_rgba_array\u001B[1;34m(c, alpha)\u001B[0m\n\u001B[0;32m    311\u001B[0m     \u001B[1;31m# `to_rgba(c, alpha)` (below) is expensive for such inputs, due to the need\u001B[0m\u001B[1;33m\u001B[0m\u001B[1;33m\u001B[0m\u001B[1;33m\u001B[0m\u001B[0m\n\u001B[0;32m    312\u001B[0m     \u001B[1;31m# to format the array in the ValueError message(!).\u001B[0m\u001B[1;33m\u001B[0m\u001B[1;33m\u001B[0m\u001B[1;33m\u001B[0m\u001B[0m\n\u001B[1;32m--> 313\u001B[1;33m     \u001B[1;32mif\u001B[0m \u001B[0mcbook\u001B[0m\u001B[1;33m.\u001B[0m\u001B[0m_str_lower_equal\u001B[0m\u001B[1;33m(\u001B[0m\u001B[0mc\u001B[0m\u001B[1;33m,\u001B[0m \u001B[1;34m\"none\"\u001B[0m\u001B[1;33m)\u001B[0m\u001B[1;33m:\u001B[0m\u001B[1;33m\u001B[0m\u001B[1;33m\u001B[0m\u001B[0m\n\u001B[0m\u001B[0;32m    314\u001B[0m         \u001B[1;32mreturn\u001B[0m \u001B[0mnp\u001B[0m\u001B[1;33m.\u001B[0m\u001B[0mzeros\u001B[0m\u001B[1;33m(\u001B[0m\u001B[1;33m(\u001B[0m\u001B[1;36m0\u001B[0m\u001B[1;33m,\u001B[0m \u001B[1;36m4\u001B[0m\u001B[1;33m)\u001B[0m\u001B[1;33m,\u001B[0m \u001B[0mfloat\u001B[0m\u001B[1;33m)\u001B[0m\u001B[1;33m\u001B[0m\u001B[1;33m\u001B[0m\u001B[0m\n\u001B[0;32m    315\u001B[0m     \u001B[1;32mtry\u001B[0m\u001B[1;33m:\u001B[0m\u001B[1;33m\u001B[0m\u001B[1;33m\u001B[0m\u001B[0m\n",
      "\u001B[1;31mKeyboardInterrupt\u001B[0m: "
     ]
    },
    {
     "data": {
      "text/plain": "<Figure size 432x288 with 1 Axes>",
      "image/png": "[encoded data removed]"
     },
     "metadata": {
      "needs_background": "light"
     },
     "output_type": "display_data"
    }
   ],
   "source": [
    "import matplotlib.pyplot as plt\n",
    "for index, cluster in enumerate(cluster_list):\n",
    "    if cluster == 1:\n",
    "        plt.scatter(x_list[index], y_list[index], c='red')\n",
    "    elif cluster == 2:\n",
    "        plt.scatter(x_list[index], y_list[index], c='coral')\n",
    "    else:\n",
    "        plt.scatter(x_list[index], y_list[index], c='blue')\n",
    "plt.show()\n",
    "\n"
   ],
   "metadata": {
    "collapsed": false,
    "pycharm": {
     "name": "#%%\n"
    }
   }
  }
 ],
 "metadata": {
  "kernelspec": {
   "display_name": "Python 3",
   "language": "python",
   "name": "python3"
  },
  "language_info": {
   "codemirror_mode": {
    "name": "ipython",
    "version": 3
   },
   "file_extension": ".py",
   "mimetype": "text/x-python",
   "name": "python",
   "nbconvert_exporter": "python",
   "pygments_lexer": "ipython3",
   "version": "3.8.5"
  }
 },
 "nbformat": 4,
 "nbformat_minor": 1
}